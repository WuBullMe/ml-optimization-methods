{
 "cells": [
  {
   "cell_type": "code",
   "execution_count": 1,
   "metadata": {},
   "outputs": [],
   "source": [
    "import argparse\n",
    "import sys\n",
    "from pathlib import Path\n",
    "\n",
    "import torch\n",
    "\n",
    "import yaml\n",
    "from yaml import SafeLoader\n"
   ]
  },
  {
   "cell_type": "code",
   "execution_count": 2,
   "metadata": {},
   "outputs": [
    {
     "name": "stdout",
     "output_type": "stream",
     "text": [
      "/Users/hokimiyon04/Documents/diplom/ml-optimization-methods\n"
     ]
    }
   ],
   "source": [
    "import os\n",
    "os.chdir(\"..\")\n",
    "print(os.getcwd()) "
   ]
  },
  {
   "cell_type": "code",
   "execution_count": 10,
   "metadata": {},
   "outputs": [
    {
     "ename": "ModuleNotFoundError",
     "evalue": "No module named 'data.dataloaders'",
     "output_type": "error",
     "traceback": [
      "\u001b[31m---------------------------------------------------------------------------\u001b[39m",
      "\u001b[31mModuleNotFoundError\u001b[39m                       Traceback (most recent call last)",
      "\u001b[36mCell\u001b[39m\u001b[36m \u001b[39m\u001b[32mIn[10]\u001b[39m\u001b[32m, line 1\u001b[39m\n\u001b[32m----> \u001b[39m\u001b[32m1\u001b[39m \u001b[38;5;28;01mimport\u001b[39;00m\u001b[38;5;250m \u001b[39m\u001b[34;01mdata\u001b[39;00m\u001b[34;01m.\u001b[39;00m\u001b[34;01mdataloaders\u001b[39;00m\u001b[34;01m.\u001b[39;00m\u001b[34;01mcifar10\u001b[39;00m\n",
      "\u001b[31mModuleNotFoundError\u001b[39m: No module named 'data.dataloaders'"
     ]
    }
   ],
   "source": [
    "import data.dataloaders.cifar10"
   ]
  },
  {
   "cell_type": "code",
   "execution_count": 3,
   "metadata": {},
   "outputs": [
    {
     "ename": "ModuleNotFoundError",
     "evalue": "No module named 'data.dataloaders'",
     "output_type": "error",
     "traceback": [
      "\u001b[31m---------------------------------------------------------------------------\u001b[39m",
      "\u001b[31mModuleNotFoundError\u001b[39m                       Traceback (most recent call last)",
      "\u001b[36mCell\u001b[39m\u001b[36m \u001b[39m\u001b[32mIn[3]\u001b[39m\u001b[32m, line 11\u001b[39m\n\u001b[32m      8\u001b[39m \u001b[38;5;28;01mfrom\u001b[39;00m\u001b[38;5;250m \u001b[39m\u001b[34;01moptimizers\u001b[39;00m\u001b[34;01m.\u001b[39;00m\u001b[34;01mprune\u001b[39;00m\u001b[38;5;250m \u001b[39m\u001b[38;5;28;01mimport\u001b[39;00m PruneOptimization\n\u001b[32m     10\u001b[39m \u001b[38;5;66;03m#list dataloaders\u001b[39;00m\n\u001b[32m---> \u001b[39m\u001b[32m11\u001b[39m \u001b[38;5;28;01mfrom\u001b[39;00m\u001b[38;5;250m \u001b[39m\u001b[34;01mdata\u001b[39;00m\u001b[34;01m.\u001b[39;00m\u001b[34;01mdataloaders\u001b[39;00m\u001b[34;01m.\u001b[39;00m\u001b[34;01mcifar10\u001b[39;00m\u001b[38;5;250m \u001b[39m\u001b[38;5;28;01mimport\u001b[39;00m Cifar10DataLoader\n\u001b[32m     13\u001b[39m \u001b[38;5;28;01mdef\u001b[39;00m\u001b[38;5;250m \u001b[39m\u001b[34mget_loader\u001b[39m():\n\u001b[32m     14\u001b[39m     loader = SafeLoader\n",
      "\u001b[31mModuleNotFoundError\u001b[39m: No module named 'data.dataloaders'"
     ]
    }
   ],
   "source": [
    "\n",
    "#list models\n",
    "from models.resnet50.model import ResNet50Model\n",
    "from models.resnet50.dataloader import ResNet50DataLoader\n",
    "from models.net.model import NetModel\n",
    "\n",
    "#list optimizations\n",
    "from optimizers.sample import SimpleOptimization\n",
    "from optimizers.prune import PruneOptimization\n",
    "\n",
    "#list dataloaders\n",
    "from data.dataloaders.cifar10 import Cifar10DataLoader\n",
    "\n",
    "def get_loader():\n",
    "    loader = SafeLoader\n",
    "    loader.add_constructor('tag:yaml.org,2002:python/tuple',\n",
    "                          lambda loader, node: tuple(loader.construct_sequence(node)))\n",
    "    return loader\n",
    "\n",
    "parser = argparse.ArgumentParser()\n",
    "parser.add_argument('--config_path', dest='config_path', type=str, help='path to yaml file')\n",
    "args = parser.parse_args()\n",
    "\n",
    "config_path = args.config_path\n",
    "with open(config_path, 'r') as f:\n",
    "    config = yaml.load(f, Loader=get_loader())\n",
    "\n",
    "\n",
    "my_class_model = globals()[config[\"model\"][\"name_class\"]]\n",
    "model = my_class_model(config[\"model\"][\"params\"])\n",
    "\n",
    "print(model.params())\n",
    "print(model.size())\n",
    "exit(0)\n",
    "\n",
    "dataloaders = {}\n",
    "for dataset in config[\"dataset\"]:\n",
    "    my_class_dataloader = globals()[dataset[\"name_class\"]]\n",
    "    dataloaders[dataset[\"split\"]] = my_class_dataloader(dataset)\n",
    "\n",
    "my_class_optimization = globals()[config[\"optimization\"][\"name_class\"]]\n",
    "optimization = my_class_optimization(config[\"optimization\"])\n",
    "\n",
    "final_model = optimization.fit(\n",
    "    master_model=model,\n",
    "    dataloaders=dataloaders\n",
    ")\n",
    "\n",
    "final_model.save(config[\"optimization\"][\"result_dir\"])"
   ]
  }
 ],
 "metadata": {
  "kernelspec": {
   "display_name": "myenv",
   "language": "python",
   "name": "python3"
  },
  "language_info": {
   "codemirror_mode": {
    "name": "ipython",
    "version": 3
   },
   "file_extension": ".py",
   "mimetype": "text/x-python",
   "name": "python",
   "nbconvert_exporter": "python",
   "pygments_lexer": "ipython3",
   "version": "3.13.2"
  }
 },
 "nbformat": 4,
 "nbformat_minor": 2
}
